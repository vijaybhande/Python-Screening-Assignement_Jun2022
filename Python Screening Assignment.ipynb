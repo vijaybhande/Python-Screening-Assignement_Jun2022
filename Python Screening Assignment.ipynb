{
 "cells": [
  {
   "cell_type": "code",
   "execution_count": 3,
   "id": "f55d9601",
   "metadata": {},
   "outputs": [
    {
     "name": "stdout",
     "output_type": "stream",
     "text": [
      "Enter text to replace the existing contents:This is a screening assignment\n",
      "Text successfully replaced\n"
     ]
    }
   ],
   "source": [
    "#1. Python program to replace text in a file\n",
    "s = input(\"Enter text to replace the existing contents:\")\n",
    "f = open(\"example.txt\", \"r+\")\n",
    "f.truncate(0)\n",
    "f.write(s)\n",
    "f.close()\n",
    "print(\"Text successfully replaced\")"
   ]
  },
  {
   "cell_type": "code",
   "execution_count": 1,
   "id": "1b1b3b7b",
   "metadata": {},
   "outputs": [],
   "source": [
    "#2.Abstraction: Use for Protecting variables\n",
    "#Use to show Private and Not private variables within classes\n",
    "class test:\n",
    "    def __init__(self,a,b,c,d):\n",
    "        self.__a = a\n",
    "        self.b = b\n",
    "        self.c = c\n",
    "        self.d = d\n",
    "    def test_custom(self,v):\n",
    "        return v-self.__a\n",
    "    \n",
    "    def __str__(self):\n",
    "        return \"This is my test code for abstraction\""
   ]
  },
  {
   "cell_type": "code",
   "execution_count": 2,
   "id": "716129fc",
   "metadata": {},
   "outputs": [],
   "source": [
    "o=test(4,5,6,7)"
   ]
  },
  {
   "cell_type": "code",
   "execution_count": 3,
   "id": "2036e811",
   "metadata": {},
   "outputs": [
    {
     "data": {
      "text/plain": [
       "4"
      ]
     },
     "execution_count": 3,
     "metadata": {},
     "output_type": "execute_result"
    }
   ],
   "source": [
    "o._test__a"
   ]
  },
  {
   "cell_type": "code",
   "execution_count": null,
   "id": "ad5c7a20",
   "metadata": {},
   "outputs": [],
   "source": [
    "## __ used to show private variables\n",
    "# _ used to show non private variables."
   ]
  },
  {
   "cell_type": "code",
   "execution_count": null,
   "id": "f1b9ced4",
   "metadata": {},
   "outputs": [],
   "source": [
    "#2.Multiple Inheritance: Used for Re-utilization of codes,- Inherit properties of parentel classes to child classes.\n",
    "\n",
    "\n",
    "class test1(test): #(test1 is child class & test is parent class)\n",
    "    def __init__(self, j, *args):\n",
    "        super(test1,self).__init__(*args)\n",
    "        self.j = j\n",
    "\n",
    "m = test1(4,5,6,7,8)\n",
    "m.b"
   ]
  },
  {
   "cell_type": "code",
   "execution_count": 6,
   "id": "5425adaf",
   "metadata": {},
   "outputs": [
    {
     "name": "stdout",
     "output_type": "stream",
     "text": [
      "multi tasking\n",
      "Name:iNeuron\n"
     ]
    }
   ],
   "source": [
    "#Example of Multiple Inheritance:\n",
    "class Ineuron:\n",
    "    name = 'iNeuron'\n",
    "\n",
    "class OS:\n",
    "    multitask = True\n",
    "    os_name = 'Windows'\n",
    "    \n",
    "class windows(OS,Ineuron):\n",
    "    def __init__(self):\n",
    "        if self.multitask is True:\n",
    "            print('multi tasking')\n",
    "        print('Name:{}'.format(self.name))\n",
    "        \n",
    "windows = windows()"
   ]
  },
  {
   "cell_type": "code",
   "execution_count": null,
   "id": "6d2ed8e5",
   "metadata": {},
   "outputs": [],
   "source": [
    "#2.Decorators: it allows programmers to modify the behaviour of a function or class.\n",
    "#Decorators allow us to wrap another function in order to extend the behaviour of the wrapped function, without permanently modifying it."
   ]
  },
  {
   "cell_type": "code",
   "execution_count": 14,
   "id": "63b5e551",
   "metadata": {},
   "outputs": [
    {
     "name": "stdout",
     "output_type": "stream",
     "text": [
      "2.0\n"
     ]
    }
   ],
   "source": [
    "def divide(x,y):  \n",
    "    print(x/y)  \n",
    "def outer_div(func):  \n",
    "    def inner(x,y):  \n",
    "        if(x<y):  \n",
    "            x,y = y,x  \n",
    "        return func(x,y)  \n",
    "    return inner  \n",
    "divide1 = outer_div(divide)\n",
    "\n",
    "\n",
    "divide1(2,4)  "
   ]
  },
  {
   "cell_type": "code",
   "execution_count": null,
   "id": "5955f3ab",
   "metadata": {},
   "outputs": [],
   "source": []
  }
 ],
 "metadata": {
  "kernelspec": {
   "display_name": "Python 3",
   "language": "python",
   "name": "python3"
  },
  "language_info": {
   "codemirror_mode": {
    "name": "ipython",
    "version": 3
   },
   "file_extension": ".py",
   "mimetype": "text/x-python",
   "name": "python",
   "nbconvert_exporter": "python",
   "pygments_lexer": "ipython3",
   "version": "3.8.8"
  }
 },
 "nbformat": 4,
 "nbformat_minor": 5
}
